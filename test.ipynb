{
 "cells": [
  {
   "cell_type": "code",
   "execution_count": null,
   "id": "3662d2fc",
   "metadata": {},
   "outputs": [],
   "source": [
    "import geopandas as gpd\n",
    "from geodatasets import get_path\n",
    "import matplotlib as plt\n",
    "path_to_data = get_path(\"nybb\")\n",
    "gdf = gpd.read_file(path_to_data)\n",
    "gdf[\"centroid\"] = gdf.centroid\n",
    "first_point = gdf[\"centroid\"].iloc[0]\n",
    "gdf[\"distance\"] = gdf[\"centroid\"].distance(first_point)\n",
    "gdf[\"boundary\"] = gdf.boundary\n"
   ]
  },
  {
   "cell_type": "code",
   "execution_count": 2,
   "id": "5a9d9f74",
   "metadata": {},
   "outputs": [
    {
     "data": {
      "text/plain": [
       "0    MULTILINESTRING ((970217.022 145643.332, 97022...\n",
       "1    MULTILINESTRING ((1029606.077 156073.814, 1029...\n",
       "2    MULTILINESTRING ((1021176.479 151374.797, 1021...\n",
       "3    MULTILINESTRING ((981219.056 188655.316, 98094...\n",
       "4    MULTILINESTRING ((1012821.806 229228.265, 1012...\n",
       "Name: boundary, dtype: geometry"
      ]
     },
     "execution_count": 2,
     "metadata": {},
     "output_type": "execute_result"
    }
   ],
   "source": [
    "gdf[\"boundary\"]"
   ]
  },
  {
   "cell_type": "code",
   "execution_count": null,
   "id": "9d11862a",
   "metadata": {},
   "outputs": [],
   "source": []
  }
 ],
 "metadata": {
  "kernelspec": {
   "display_name": "Python 3",
   "language": "python",
   "name": "python3"
  },
  "language_info": {
   "codemirror_mode": {
    "name": "ipython",
    "version": 3
   },
   "file_extension": ".py",
   "mimetype": "text/x-python",
   "name": "python",
   "nbconvert_exporter": "python",
   "pygments_lexer": "ipython3",
   "version": "3.11.4"
  }
 },
 "nbformat": 4,
 "nbformat_minor": 5
}
